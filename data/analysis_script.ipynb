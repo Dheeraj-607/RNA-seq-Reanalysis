{
 "cells": [
  {
   "cell_type": "code",
   "execution_count": null,
   "id": "9c4ab450",
   "metadata": {
    "vscode": {
     "languageId": "plaintext"
    }
   },
   "outputs": [],
   "source": [
    "import scanpy as sc\n",
    "import pandas as pd\n",
    "import matplotlib.pyplot as plt\n",
    "import os\n",
    "import gzip"
   ]
  },
  {
   "cell_type": "code",
   "execution_count": null,
   "id": "37ac3370",
   "metadata": {
    "vscode": {
     "languageId": "plaintext"
    }
   },
   "outputs": [],
   "source": [
    "# Path to the directory containing the .csv.gz files\n",
    "data_dir = r\"C:/Users/Dell/Desktop/Steered Research Project/GSE67835_RAW\"\n",
    "files = [f for f in os.listdir(data_dir) if f.endswith(\".csv.gz\")]\n",
    "\n",
    "all_cells = []\n",
    "\n",
    "for f in files:\n",
    "    file_path = os.path.join(data_dir, f)\n",
    "    try:\n",
    "        with gzip.open(file_path, 'rt') as fh:\n",
    "            df = pd.read_csv(fh, index_col=0, header=None, sep='\\t')\n",
    "\n",
    "        if df.shape[0] == 0 or df.shape[1] != 1:\n",
    "            print(f\"Skipping empty or malformed file: {f}\")\n",
    "            continue\n",
    "\n",
    "        df.columns = [f.split(\"_\")[0]]\n",
    "        all_cells.append(df)\n",
    "\n",
    "    except Exception as e:\n",
    "        print(f\"Error reading {f}: {e}\")\n",
    "        continue\n",
    "\n",
    "if not all_cells:\n",
    "    raise RuntimeError(\"No valid gene count files were loaded. Please check your input directory.\")\n",
    "\n",
    "combined_df = pd.concat(all_cells, axis=1)\n",
    "combined_df.to_csv(\"gene_counts_matrix.csv\")\n",
    "\n",
    "adata = sc.AnnData(combined_df.T)\n"
   ]
  },
  {
   "cell_type": "code",
   "execution_count": null,
   "id": "980c0052",
   "metadata": {
    "vscode": {
     "languageId": "plaintext"
    }
   },
   "outputs": [],
   "source": [
    "# Fix BEFORE calling make_unique\n",
    "adata.var.index.name = None\n",
    "adata.var_names_make_unique()\n",
    "\n",
    "sc.pp.filter_cells(adata, min_genes=200)\n",
    "sc.pp.filter_genes(adata, min_cells=3)\n",
    "sc.pp.normalize_total(adata, target_sum=1e4)\n",
    "sc.pp.log1p(adata)\n",
    "sc.pp.highly_variable_genes(adata, n_top_genes=2000)\n",
    "adata = adata[:, adata.var.highly_variable]\n",
    "sc.pp.scale(adata, max_value=10)\n",
    "sc.tl.pca(adata, svd_solver='arpack')\n",
    "sc.pp.neighbors(adata, n_neighbors=10, n_pcs=40)\n",
    "sc.tl.umap(adata)\n",
    "sc.tl.leiden(adata)\n",
    "\n",
    "sc.pl.umap(adata, color=['leiden'], save=\"_clusters.png\")\n",
    "adata.write(\"processed_data.h5ad\")"
   ]
  }
 ],
 "metadata": {
  "language_info": {
   "name": "python"
  }
 },
 "nbformat": 4,
 "nbformat_minor": 5
}
